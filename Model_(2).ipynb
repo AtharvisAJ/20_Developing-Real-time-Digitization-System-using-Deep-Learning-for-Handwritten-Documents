{
 "cells": [
  {
   "cell_type": "code",
   "execution_count": 1,
   "id": "fac31215",
   "metadata": {},
   "outputs": [],
   "source": [
    "import os, types\n",
    "import matplotlib.pyplot as plt\n",
    "import pandas as pd\n",
    "from tensorflow.keras.preprocessing.image import ImageDataGenerator\n",
    "from tensorflow.keras.models import Sequential\n",
    "from tensorflow.keras.layers import Dense,Convolution2D,MaxPooling2D,Flatten,BatchNormalization,LeakyReLU, Dropout\n",
    "import tensorflow as tf\n",
    "from keras.callbacks import ModelCheckpoint\n",
    "import numpy as np\n",
    "from tensorflow.keras.models import load_model\n",
    "from tensorflow.keras.preprocessing import image\n",
    "from keras.callbacks import ModelCheckpoint,EarlyStopping"
   ]
  },
  {
   "cell_type": "code",
   "execution_count": 5,
   "id": "9ee0988f",
   "metadata": {},
   "outputs": [],
   "source": [
    "train_datagen=ImageDataGenerator(rescale=1./255,zoom_range=0.2)"
   ]
  },
  {
   "cell_type": "code",
   "execution_count": 6,
   "id": "c083765b",
   "metadata": {},
   "outputs": [],
   "source": [
    "test_datagen=ImageDataGenerator(rescale=1./255)"
   ]
  },
  {
   "cell_type": "code",
   "execution_count": 7,
   "id": "f4ca367e",
   "metadata": {},
   "outputs": [
    {
     "name": "stdout",
     "output_type": "stream",
     "text": [
      "Found 252850 images belonging to 459 classes.\n",
      "Found 67447 images belonging to 459 classes.\n"
     ]
    }
   ],
   "source": [
    "x_train = train_datagen.flow_from_directory('C:/Users/USER/Desktop/Major/Data HW/MegaData/train', target_size = (64, 64), \n",
    "                                                 batch_size = 256, class_mode = 'categorical')\n",
    "x_test = test_datagen.flow_from_directory('C:/Users/USER/Desktop/Major/Data HW/MegaData/test', target_size = (64, 64), \n",
    "                                                 batch_size = 256, class_mode = 'categorical')"
   ]
  },
  {
   "cell_type": "code",
   "execution_count": 8,
   "id": "36dad21b",
   "metadata": {},
   "outputs": [
    {
     "name": "stdout",
     "output_type": "stream",
     "text": [
      "['_', 'fullstop', 'ं', 'ः', 'अ', 'अं', 'अः', 'आ', 'इ', 'ई', 'उ', 'ऊ', 'ऋ', 'ए', 'ऐ', 'ओ', 'औ', 'क', 'कं', 'कः', 'का', 'कि', 'की', 'कु', 'कू', 'के', 'कै', 'को', 'कौ', 'क्ष', 'क्षं', 'क्षः', 'क्षा', 'क्षि', 'क्षी', 'क्षु', 'क्षू', 'क्षे', 'क्षै', 'क्षो', 'क्षौ', 'ख', 'खं', 'खः', 'खा', 'खि', 'खी', 'खु', 'खू', 'खे', 'खै', 'खो', 'खौ', 'ग', 'गं', 'गः', 'गा', 'गि', 'गी', 'गु', 'गू', 'गे', 'गै', 'गो', 'गौ', 'घ', 'घं', 'घः', 'घा', 'घि', 'घी', 'घु', 'घू', 'घे', 'घै', 'घो', 'घौ', 'ङ', 'च', 'चं', 'चः', 'चा', 'चि', 'ची', 'चु', 'चू', 'चे', 'चै', 'चो', 'चौ', 'छ', 'छं', 'छः', 'छा', 'छि', 'छी', 'छु', 'छू', 'छे', 'छै', 'छो', 'छौ', 'ज', 'जं', 'जः', 'जा', 'जि', 'जी', 'जु', 'जू', 'जे', 'जै', 'जो', 'जौ', 'ज्ञ', 'ज्ञं', 'ज्ञः', 'ज्ञा', 'ज्ञि', 'ज्ञी', 'ज्ञु', 'ज्ञू', 'ज्ञे', 'ज्ञै', 'ज्ञो', 'ज्ञौ', 'झ', 'झं', 'झः', 'झा', 'झि', 'झी', 'झु', 'झू', 'झे', 'झै', 'झो', 'झौ', 'ञ', 'ञं', 'ञः', 'ञा', 'ञि', 'ञी', 'ञु', 'ञू', 'ञे', 'ञै', 'ञो', 'ञौ', 'ट', 'टं', 'टः', 'टा', 'टि', 'टी', 'टु', 'टू', 'टे', 'टै', 'टो', 'टौ', 'ठ', 'ठं', 'ठः', 'ठा', 'ठि', 'ठी', 'ठु', 'ठू', 'ठे', 'ठै', 'ठो', 'ठौ', 'ड', 'डं', 'डः', 'डा', 'डि', 'डी', 'डु', 'डू', 'डे', 'डै', 'डो', 'डौ', 'ढ', 'ढं', 'ढः', 'ढा', 'ढि', 'ढी', 'ढु', 'ढू', 'ढे', 'ढै', 'ढो', 'ढौ', 'ण', 'णं', 'णः', 'णा', 'णि', 'णी', 'णु', 'णू', 'णे', 'णै', 'णो', 'णौ', 'त', 'तं', 'तः', 'ता', 'ति', 'ती', 'तु', 'तू', 'ते', 'तै', 'तो', 'तौ', 'त्र', 'थ', 'थं', 'थः', 'था', 'थि', 'थी', 'थु', 'थू', 'थे', 'थै', 'थो', 'थौ', 'द', 'दं', 'दः', 'दा', 'दि', 'दी', 'दु', 'दू', 'दे', 'दै', 'दो', 'दौ', 'ध', 'धं', 'धः', 'धा', 'धि', 'धी', 'धु', 'धू', 'धे', 'धै', 'धो', 'धौ', 'न', 'नं', 'नः', 'ना', 'नि', 'नी', 'नु', 'नू', 'ने', 'नै', 'नो', 'नौ', 'प', 'पं', 'पः', 'पा', 'पि', 'पी', 'पु', 'पू', 'पे', 'पै', 'पो', 'पौ', 'फ', 'फं', 'फः', 'फा', 'फि', 'फी', 'फु', 'फू', 'फे', 'फै', 'फो', 'फौ', 'ब', 'बं', 'बः', 'बा', 'बि', 'बी', 'बु', 'बू', 'बे', 'बै', 'बो', 'बौ', 'भ', 'भं', 'भः', 'भा', 'भि', 'भी', 'भु', 'भू', 'भे', 'भै', 'भो', 'भौ', 'म', 'मं', 'मः', 'मा', 'मि', 'मी', 'मु', 'मू', 'मे', 'मै', 'मो', 'मौ', 'य', 'यं', 'यः', 'या', 'यि', 'यी', 'यु', 'यू', 'ये', 'यै', 'यो', 'यौ', 'र', 'रं', 'रः', 'रा', 'रि', 'री', 'रु', 'रू', 'रे', 'रै', 'रो', 'रौ', 'ल', 'लं', 'लः', 'ला', 'लि', 'ली', 'लु', 'लू', 'ले', 'लै', 'लो', 'लौ', 'ळ', 'ळं', 'ळः', 'ळा', 'ळि', 'ळी', 'ळु', 'ळू', 'ळे', 'ळै', 'ळो', 'ळौ', 'व', 'वं', 'वः', 'वा', 'वि', 'वी', 'वु', 'वू', 'वे', 'वै', 'वो', 'वौ', 'श', 'शं', 'शः', 'शा', 'शि', 'शी', 'शु', 'शू', 'शे', 'शै', 'शो', 'शौ', 'ष', 'षं', 'षः', 'षा', 'षि', 'षी', 'षु', 'षू', 'षे', 'षै', 'षो', 'षौ', 'स', 'सं', 'सः', 'सा', 'सि', 'सी', 'सु', 'सू', 'से', 'सै', 'सो', 'सौ', 'ह', 'हं', 'हः', 'हा', 'हि', 'ही', 'हु', 'हू', 'हे', 'है', 'हो', 'हौ', 'ा', 'ि', 'ी', 'ु', 'ू', 'े', 'ै', 'ो', 'ौ', '।', '०', '१', '२', '३', '४', '५', '६', '७', '८', '९']\n"
     ]
    }
   ],
   "source": [
    "index=list(x_train.class_indices.keys())\n",
    "print(index)"
   ]
  },
  {
   "cell_type": "code",
   "execution_count": 6,
   "id": "d94eb892",
   "metadata": {},
   "outputs": [],
   "source": [
    "model=Sequential()\n",
    "model.add(Convolution2D(32,(3,3),input_shape=(64,64,3),activation=LeakyReLU(),padding='same'))\n",
    "model.add(Convolution2D(32,(3,3),activation=LeakyReLU(),padding='same'))\n",
    "model.add(MaxPooling2D(pool_size=(2,2)))\n",
    "model.add(Dropout(0.25))\n",
    "model.add(Convolution2D(64,(3,3),activation=LeakyReLU(),padding='same'))\n",
    "model.add(Convolution2D(64,(3,3),activation=LeakyReLU(),padding='same'))\n",
    "model.add(MaxPooling2D(pool_size=(2,2)))\n",
    "model.add(Dropout(0.25))\n",
    "model.add(Convolution2D(128,(3,3),activation='relu',padding='same'))\n",
    "model.add(Convolution2D(128,(3,3),activation='relu',padding='same'))\n",
    "model.add(MaxPooling2D(pool_size=(2,2)))\n",
    "model.add(Dropout(0.25))\n",
    "model.add(Convolution2D(256,(2,2),activation='relu',padding='same'))\n",
    "model.add(Convolution2D(256,(2,2),activation='relu',padding='same'))\n",
    "model.add(Convolution2D(256,(3,3),activation='relu',padding='same'))\n",
    "model.add(MaxPooling2D(pool_size=(2,2)))\n",
    "model.add(Dropout(0.25))\n",
    "model.add(Flatten())\n",
    "model.add(Dense(512))\n",
    "model.add(Dropout(0.25))\n",
    "model.add(Dense(256))\n",
    "model.add(Dropout(0.25))\n",
    "model.add(Dense(459,activation='softmax'))"
   ]
  },
  {
   "cell_type": "code",
   "execution_count": 7,
   "id": "97d5b80d",
   "metadata": {},
   "outputs": [
    {
     "name": "stdout",
     "output_type": "stream",
     "text": [
      "Model: \"sequential\"\n",
      "_________________________________________________________________\n",
      " Layer (type)                Output Shape              Param #   \n",
      "=================================================================\n",
      " conv2d (Conv2D)             (None, 64, 64, 32)        896       \n",
      "                                                                 \n",
      " conv2d_1 (Conv2D)           (None, 64, 64, 32)        9248      \n",
      "                                                                 \n",
      " max_pooling2d (MaxPooling2D  (None, 32, 32, 32)       0         \n",
      " )                                                               \n",
      "                                                                 \n",
      " dropout (Dropout)           (None, 32, 32, 32)        0         \n",
      "                                                                 \n",
      " conv2d_2 (Conv2D)           (None, 32, 32, 64)        18496     \n",
      "                                                                 \n",
      " conv2d_3 (Conv2D)           (None, 32, 32, 64)        36928     \n",
      "                                                                 \n",
      " max_pooling2d_1 (MaxPooling  (None, 16, 16, 64)       0         \n",
      " 2D)                                                             \n",
      "                                                                 \n",
      " dropout_1 (Dropout)         (None, 16, 16, 64)        0         \n",
      "                                                                 \n",
      " conv2d_4 (Conv2D)           (None, 16, 16, 128)       73856     \n",
      "                                                                 \n",
      " conv2d_5 (Conv2D)           (None, 16, 16, 128)       147584    \n",
      "                                                                 \n",
      " max_pooling2d_2 (MaxPooling  (None, 8, 8, 128)        0         \n",
      " 2D)                                                             \n",
      "                                                                 \n",
      " dropout_2 (Dropout)         (None, 8, 8, 128)         0         \n",
      "                                                                 \n",
      " conv2d_6 (Conv2D)           (None, 8, 8, 256)         131328    \n",
      "                                                                 \n",
      " conv2d_7 (Conv2D)           (None, 8, 8, 256)         262400    \n",
      "                                                                 \n",
      " conv2d_8 (Conv2D)           (None, 8, 8, 256)         590080    \n",
      "                                                                 \n",
      " max_pooling2d_3 (MaxPooling  (None, 4, 4, 256)        0         \n",
      " 2D)                                                             \n",
      "                                                                 \n",
      " dropout_3 (Dropout)         (None, 4, 4, 256)         0         \n",
      "                                                                 \n",
      " flatten (Flatten)           (None, 4096)              0         \n",
      "                                                                 \n",
      " dense (Dense)               (None, 512)               2097664   \n",
      "                                                                 \n",
      " dropout_4 (Dropout)         (None, 512)               0         \n",
      "                                                                 \n",
      " dense_1 (Dense)             (None, 256)               131328    \n",
      "                                                                 \n",
      " dropout_5 (Dropout)         (None, 256)               0         \n",
      "                                                                 \n",
      " dense_2 (Dense)             (None, 459)               117963    \n",
      "                                                                 \n",
      "=================================================================\n",
      "Total params: 3,617,771\n",
      "Trainable params: 3,617,771\n",
      "Non-trainable params: 0\n",
      "_________________________________________________________________\n"
     ]
    }
   ],
   "source": [
    "model.summary()"
   ]
  },
  {
   "cell_type": "code",
   "execution_count": 8,
   "id": "57af2b54",
   "metadata": {},
   "outputs": [],
   "source": [
    "model.compile(loss='categorical_crossentropy',optimizer='rmsprop',metrics=['accuracy'])"
   ]
  },
  {
   "cell_type": "code",
   "execution_count": 10,
   "id": "eb72c783",
   "metadata": {},
   "outputs": [
    {
     "name": "stderr",
     "output_type": "stream",
     "text": [
      "C:\\Users\\USER\\AppData\\Local\\Temp\\ipykernel_13836\\3276262421.py:8: UserWarning: `Model.fit_generator` is deprecated and will be removed in a future version. Please use `Model.fit`, which supports generators.\n",
      "  output=model.fit_generator(x_train,steps_per_epoch=len(x_train),callbacks=callbacks,epochs=70,validation_data=x_test,validation_steps=len(x_test))\n"
     ]
    },
    {
     "name": "stdout",
     "output_type": "stream",
     "text": [
      "Epoch 1/70\n",
      "988/988 [==============================] - ETA: 0s - loss: 4.0666 - accuracy: 0.2377\n",
      "Epoch 1: val_accuracy improved from -inf to 0.70258, saving model to new_data2_acc.hdf5\n",
      "\n",
      "Epoch 1: val_loss improved from inf to 1.17545, saving model to new_data2_loss.hdf5\n",
      "988/988 [==============================] - 4883s 5s/step - loss: 4.0666 - accuracy: 0.2377 - val_loss: 1.1754 - val_accuracy: 0.7026\n",
      "Epoch 2/70\n",
      "988/988 [==============================] - ETA: 0s - loss: 0.7273 - accuracy: 0.7991\n",
      "Epoch 2: val_accuracy improved from 0.70258 to 0.87964, saving model to new_data2_acc.hdf5\n",
      "\n",
      "Epoch 2: val_loss improved from 1.17545 to 0.50034, saving model to new_data2_loss.hdf5\n",
      "988/988 [==============================] - 3158s 3s/step - loss: 0.7273 - accuracy: 0.7991 - val_loss: 0.5003 - val_accuracy: 0.8796\n",
      "Epoch 3/70\n",
      "988/988 [==============================] - ETA: 0s - loss: 0.3396 - accuracy: 0.9017\n",
      "Epoch 3: val_accuracy improved from 0.87964 to 0.91034, saving model to new_data2_acc.hdf5\n",
      "\n",
      "Epoch 3: val_loss improved from 0.50034 to 0.40106, saving model to new_data2_loss.hdf5\n",
      "988/988 [==============================] - 3115s 3s/step - loss: 0.3396 - accuracy: 0.9017 - val_loss: 0.4011 - val_accuracy: 0.9103\n",
      "Epoch 4/70\n",
      "988/988 [==============================] - ETA: 0s - loss: 0.2459 - accuracy: 0.9287\n",
      "Epoch 4: val_accuracy improved from 0.91034 to 0.91780, saving model to new_data2_acc.hdf5\n",
      "\n",
      "Epoch 4: val_loss did not improve from 0.40106\n",
      "988/988 [==============================] - 3089s 3s/step - loss: 0.2459 - accuracy: 0.9287 - val_loss: 0.4371 - val_accuracy: 0.9178\n",
      "Epoch 5/70\n",
      "988/988 [==============================] - ETA: 0s - loss: 0.2008 - accuracy: 0.9424\n",
      "Epoch 5: val_accuracy did not improve from 0.91780\n",
      "\n",
      "Epoch 5: val_loss did not improve from 0.40106\n",
      "988/988 [==============================] - 3101s 3s/step - loss: 0.2008 - accuracy: 0.9424 - val_loss: 0.4405 - val_accuracy: 0.9151\n",
      "Epoch 6/70\n",
      "988/988 [==============================] - ETA: 0s - loss: 0.1793 - accuracy: 0.9485\n",
      "Epoch 6: val_accuracy improved from 0.91780 to 0.92627, saving model to new_data2_acc.hdf5\n",
      "\n",
      "Epoch 6: val_loss did not improve from 0.40106\n",
      "988/988 [==============================] - 3102s 3s/step - loss: 0.1793 - accuracy: 0.9485 - val_loss: 0.4044 - val_accuracy: 0.9263\n",
      "Epoch 7/70\n",
      "988/988 [==============================] - ETA: 0s - loss: 0.1634 - accuracy: 0.9534\n",
      "Epoch 7: val_accuracy improved from 0.92627 to 0.93012, saving model to new_data2_acc.hdf5\n",
      "\n",
      "Epoch 7: val_loss improved from 0.40106 to 0.39585, saving model to new_data2_loss.hdf5\n",
      "988/988 [==============================] - 3089s 3s/step - loss: 0.1634 - accuracy: 0.9534 - val_loss: 0.3959 - val_accuracy: 0.9301\n",
      "Epoch 8/70\n",
      "988/988 [==============================] - ETA: 0s - loss: 0.1536 - accuracy: 0.9564\n",
      "Epoch 8: val_accuracy improved from 0.93012 to 0.93122, saving model to new_data2_acc.hdf5\n",
      "\n",
      "Epoch 8: val_loss did not improve from 0.39585\n",
      "988/988 [==============================] - 3096s 3s/step - loss: 0.1536 - accuracy: 0.9564 - val_loss: 0.4166 - val_accuracy: 0.9312\n",
      "Epoch 9/70\n",
      "988/988 [==============================] - ETA: 0s - loss: 0.1454 - accuracy: 0.9592\n",
      "Epoch 9: val_accuracy improved from 0.93122 to 0.93174, saving model to new_data2_acc.hdf5\n",
      "\n",
      "Epoch 9: val_loss did not improve from 0.39585\n",
      "988/988 [==============================] - 3091s 3s/step - loss: 0.1454 - accuracy: 0.9592 - val_loss: 0.4276 - val_accuracy: 0.9317\n",
      "Epoch 10/70\n",
      "988/988 [==============================] - ETA: 0s - loss: 0.1411 - accuracy: 0.9598\n",
      "Epoch 10: val_accuracy did not improve from 0.93174\n",
      "\n",
      "Epoch 10: val_loss did not improve from 0.39585\n",
      "988/988 [==============================] - 4784s 5s/step - loss: 0.1411 - accuracy: 0.9598 - val_loss: 0.4291 - val_accuracy: 0.9305\n",
      "Epoch 11/70\n",
      "988/988 [==============================] - ETA: 0s - loss: 0.1378 - accuracy: 0.9610\n",
      "Epoch 11: val_accuracy did not improve from 0.93174\n",
      "\n",
      "Epoch 11: val_loss did not improve from 0.39585\n",
      "988/988 [==============================] - 6834s 7s/step - loss: 0.1378 - accuracy: 0.9610 - val_loss: 0.4395 - val_accuracy: 0.9310\n",
      "Epoch 12/70\n",
      "988/988 [==============================] - ETA: 0s - loss: 0.1356 - accuracy: 0.9619\n",
      "Epoch 12: val_accuracy improved from 0.93174 to 0.93387, saving model to new_data2_acc.hdf5\n",
      "\n",
      "Epoch 12: val_loss did not improve from 0.39585\n",
      "Restoring model weights from the end of the best epoch: 7.\n",
      "988/988 [==============================] - 5609s 6s/step - loss: 0.1356 - accuracy: 0.9619 - val_loss: 0.4282 - val_accuracy: 0.9339\n",
      "Epoch 12: early stopping\n"
     ]
    }
   ],
   "source": [
    "filepath = 'new_data2_acc.hdf5'\n",
    "filepath2 = 'new_data2_loss.hdf5'\n",
    "\n",
    "checkpoint = ModelCheckpoint(filepath=filepath, monitor='val_accuracy',verbose=1, save_best_only=True,mode='max')\n",
    "checkpoint2 = ModelCheckpoint(filepath=filepath2, monitor='val_loss',verbose=1, save_best_only=True,mode='min')\n",
    "stop=EarlyStopping(monitor=\"val_loss\",patience=5,verbose=1,mode=\"min\",restore_best_weights=True)\n",
    "callbacks = [checkpoint,checkpoint2,stop]\n",
    "output=model.fit_generator(x_train,steps_per_epoch=len(x_train),callbacks=callbacks,epochs=70,validation_data=x_test,validation_steps=len(x_test))\n"
   ]
  },
  {
   "cell_type": "code",
   "execution_count": null,
   "id": "5c9b9a53-a47c-46ca-af93-e571a9f543a7",
   "metadata": {},
   "outputs": [
    {
     "data": {
      "image/png": "[encoded data removed]",
      "text/plain": [
       "<Figure size 640x480 with 1 Axes>"
      ]
     },
     "metadata": {},
     "output_type": "display_data"
    }
   ],
   "source": [
    "import matplotlib.pyplot as plt\n",
    "\n",
    "# Plot training & validation accuracy values\n",
    "plt.plot(output.history['accuracy'])\n",
    "plt.plot(output.history['val_accuracy'])\n",
    "plt.title('Model accuracy')\n",
    "plt.ylabel('Accuracy')\n",
    "plt.xlabel('Epoch')\n",
    "plt.legend(['Train', 'Test'], loc='upper left')\n",
    "plt.show()"
   ]
  },
  {
   "cell_type": "code",
   "execution_count": null,
   "id": "660db245-288d-4ec4-87ce-f66c0e8761c4",
   "metadata": {},
   "outputs": [
    {
     "data": {
      "image/png": "[encoded data removed]",
      "text/plain": [
       "<Figure size 640x480 with 1 Axes>"
      ]
     },
     "metadata": {},
     "output_type": "display_data"
    }
   ],
   "source": [
    "\n",
    "plt.plot(output.history['loss'])\n",
    "plt.plot(output.history['val_loss'])\n",
    "plt.title('Model loss')\n",
    "plt.ylabel('Loss')\n",
    "plt.xlabel('Epoch')\n",
    "plt.legend(['Train', 'Test'], loc='upper left')\n",
    "plt.show()"
   ]
  },
  {
   "cell_type": "code",
   "execution_count": 9,
   "id": "bd030894",
   "metadata": {},
   "outputs": [
    {
     "name": "stdout",
     "output_type": "stream",
     "text": [
      "(64, 64, 3)\n",
      "1/1 [==============================] - 0s 421ms/step\n",
      "fullstop\n",
      "1/1 [==============================] - 0s 163ms/step\n",
      "fullstop\n"
     ]
    }
   ],
   "source": [
    "filepath = 'new_data2_acc.hdf5'\n",
    "filepath2 = 'new_data2_loss.hdf5'\n",
    "model1 = load_model(filepath)\n",
    "model2 = load_model(filepath2)\n",
    "x=image.img_to_array(image.load_img(\"C:/Users/USER/Desktop/Major/Data HW/MegaData/test/fullstop/fullstop_original_2023-03-11_111873-2--1--14_1.png_4368471c-58c4-4f01-8849-ee2ee487990e.png\",color_mode=\"grayscale\",target_size=(64,64)))\n",
    "x = np.squeeze(x)\n",
    "x = np.stack((x,) * 3, axis=-1)\n",
    "print(x.shape)\n",
    "x=np.expand_dims(x,axis=0)/255\n",
    "print(index[np.argmax(model1.predict(x),axis=1)[0]])\n",
    "print(index[np.argmax(model2.predict(x),axis=1)[0]])"
   ]
  },
  {
   "cell_type": "code",
   "execution_count": null,
   "id": "f77807a2-6383-40e8-a825-b535efa6a2bf",
   "metadata": {},
   "outputs": [],
   "source": []
  },
  {
   "cell_type": "code",
   "execution_count": 14,
   "id": "d99137bb",
   "metadata": {},
   "outputs": [
    {
     "name": "stdout",
     "output_type": "stream",
     "text": [
      "(64, 64, 3)\n",
      "1/1 [==============================] - 0s 43ms/step\n",
      "घे\n",
      "1/1 [==============================] - 0s 33ms/step\n",
      "घे\n"
     ]
    }
   ],
   "source": [
    "x=image.img_to_array(image.load_img(\"C:/Users/USER/Desktop/Major/Data HW/MegaData/test/घे/36378_rlt.png\",color_mode=\"grayscale\",target_size=(64,64)))\n",
    "x = np.squeeze(x)\n",
    "x = np.stack((x,) * 3, axis=-1)\n",
    "print(x.shape)\n",
    "x=np.expand_dims(x,axis=0)/255\n",
    "print(index[np.argmax(model1.predict(x),axis=1)[0]])\n",
    "print(index[np.argmax(model2.predict(x),axis=1)[0]])"
   ]
  },
  {
   "cell_type": "code",
   "execution_count": 30,
   "id": "9127a0d6",
   "metadata": {},
   "outputs": [
    {
     "data": {
      "image/png": "[encoded data removed]",
      "text/plain": [
       "<Figure size 640x480 with 1 Axes>"
      ]
     },
     "metadata": {},
     "output_type": "display_data"
    },
    {
     "name": "stdout",
     "output_type": "stream",
     "text": [
      "1/1 [==============================] - 0s 25ms/step\n",
      "मा\n"
     ]
    }
   ],
   "source": [
    "x=image.img_to_array(image.load_img(\"C:/Users/USER/Desktop/Major/Data HW/MegaData/test2/ma.png\",color_mode=\"grayscale\",target_size=(64,64)))\n",
    "from matplotlib import pyplot as plt\n",
    "plt.imshow(x, interpolation='nearest')\n",
    "plt.show()\n",
    "x = np.squeeze(x)\n",
    "x = np.stack((x,) * 3, axis=-1)\n",
    "x=np.expand_dims(x,axis=0)/255\n",
    "print(index[np.argmax(model1.predict(x),axis=1)[0]])"
   ]
  },
  {
   "cell_type": "code",
   "execution_count": 16,
   "id": "1bd8a83b",
   "metadata": {},
   "outputs": [
    {
     "name": "stdout",
     "output_type": "stream",
     "text": [
      "(64, 64, 3)\n",
      "1/1 [==============================] - 0s 43ms/step\n",
      "लि\n",
      "1/1 [==============================] - 0s 34ms/step\n",
      "लि\n"
     ]
    }
   ],
   "source": [
    "x=image.img_to_array(image.load_img(\"C:/Users/USER/Desktop/Major/Data HW/MegaData/test2/li.png\",color_mode=\"grayscale\",target_size=(64,64)))\n",
    "x = np.squeeze(x)\n",
    "x = np.stack((x,) * 3, axis=-1)\n",
    "print(x.shape)\n",
    "x=np.expand_dims(x,axis=0)/255\n",
    "print(index[np.argmax(model1.predict(x),axis=1)[0]])\n",
    "print(index[np.argmax(model2.predict(x),axis=1)[0]])"
   ]
  },
  {
   "cell_type": "code",
   "execution_count": 17,
   "id": "a06f2eb0",
   "metadata": {},
   "outputs": [
    {
     "name": "stdout",
     "output_type": "stream",
     "text": [
      "(64, 64, 3)\n",
      "1/1 [==============================] - 0s 42ms/step\n",
      "मा\n",
      "1/1 [==============================] - 0s 34ms/step\n",
      "मा\n"
     ]
    }
   ],
   "source": [
    "x=image.img_to_array(image.load_img(\"C:/Users/USER/Desktop/Major/Data HW/MegaData/test2/ma.png\",color_mode=\"grayscale\",target_size=(64,64)))\n",
    "x = np.squeeze(x)\n",
    "x = np.stack((x,) * 3, axis=-1)\n",
    "print(x.shape)\n",
    "x=np.expand_dims(x,axis=0)/255\n",
    "print(index[np.argmax(model1.predict(x),axis=1)[0]])\n",
    "print(index[np.argmax(model2.predict(x),axis=1)[0]])"
   ]
  },
  {
   "cell_type": "code",
   "execution_count": 18,
   "id": "7aeff648-6968-4906-9425-18cdd027fc4d",
   "metadata": {},
   "outputs": [
    {
     "name": "stdout",
     "output_type": "stream",
     "text": [
      "(64, 64, 3)\n",
      "1/1 [==============================] - 0s 42ms/step\n",
      "हे\n",
      "1/1 [==============================] - 0s 32ms/step\n",
      "हे\n"
     ]
    }
   ],
   "source": [
    "x=image.img_to_array(image.load_img(\"C:/Users/USER/Desktop/Major/Data HW/MegaData/test2/h_A.png\",color_mode=\"grayscale\",target_size=(64,64)))\n",
    "x = np.squeeze(x)\n",
    "x = np.stack((x,) * 3, axis=-1)\n",
    "print(x.shape)\n",
    "x=np.expand_dims(x,axis=0)/255\n",
    "print(index[np.argmax(model1.predict(x),axis=1)[0]])\n",
    "print(index[np.argmax(model2.predict(x),axis=1)[0]])"
   ]
  },
  {
   "cell_type": "code",
   "execution_count": 19,
   "id": "b847bcc5-6b6a-4837-89f6-54e636a60ee4",
   "metadata": {},
   "outputs": [
    {
     "name": "stdout",
     "output_type": "stream",
     "text": [
      "(64, 64, 3)\n",
      "1/1 [==============================] - 0s 40ms/step\n",
      "शि\n",
      "1/1 [==============================] - 0s 38ms/step\n",
      "झो\n"
     ]
    }
   ],
   "source": [
    "x=image.img_to_array(image.load_img(\"C:/Users/USER/Desktop/Major/Data HW/MegaData/test2/ho.png\",color_mode=\"grayscale\",target_size=(64,64)))\n",
    "x = np.squeeze(x)\n",
    "x = np.stack((x,) * 3, axis=-1)\n",
    "print(x.shape)\n",
    "x=np.expand_dims(x,axis=0)/255\n",
    "print(index[np.argmax(model1.predict(x),axis=1)[0]])\n",
    "print(index[np.argmax(model2.predict(x),axis=1)[0]])"
   ]
  },
  {
   "cell_type": "code",
   "execution_count": 20,
   "id": "409971a3-b2e7-4b7f-a86c-9b9fdd1cfb6c",
   "metadata": {},
   "outputs": [
    {
     "name": "stdout",
     "output_type": "stream",
     "text": [
      "(64, 64, 3)\n",
      "1/1 [==============================] - 0s 40ms/step\n",
      "सा\n",
      "1/1 [==============================] - 0s 37ms/step\n",
      "स\n"
     ]
    }
   ],
   "source": [
    "x=image.img_to_array(image.load_img(\"C:/Users/USER/Desktop/Major/Data HW/MegaData/test2/ru.png\",color_mode=\"grayscale\",target_size=(64,64)))\n",
    "x = np.squeeze(x)\n",
    "x = np.stack((x,) * 3, axis=-1)\n",
    "print(x.shape)\n",
    "x=np.expand_dims(x,axis=0)/255\n",
    "print(index[np.argmax(model1.predict(x),axis=1)[0]])\n",
    "print(index[np.argmax(model2.predict(x),axis=1)[0]])"
   ]
  },
  {
   "cell_type": "code",
   "execution_count": 21,
   "id": "2c83edb1-6721-470e-a541-352e7878e438",
   "metadata": {},
   "outputs": [
    {
     "name": "stdout",
     "output_type": "stream",
     "text": [
      "(64, 64, 3)\n",
      "1/1 [==============================] - 0s 44ms/step\n",
      "क्षा\n",
      "1/1 [==============================] - 0s 34ms/step\n",
      "मा\n"
     ]
    }
   ],
   "source": [
    "x=image.img_to_array(image.load_img(\"C:/Users/USER/Desktop/Major/Data HW/MegaData/test2/sha.png\",color_mode=\"grayscale\",target_size=(64,64)))\n",
    "x = np.squeeze(x)\n",
    "x = np.stack((x,) * 3, axis=-1)\n",
    "print(x.shape)\n",
    "x=np.expand_dims(x,axis=0)/255\n",
    "print(index[np.argmax(model1.predict(x),axis=1)[0]])\n",
    "print(index[np.argmax(model2.predict(x),axis=1)[0]])"
   ]
  },
  {
   "cell_type": "code",
   "execution_count": 69,
   "id": "ceb323ea-eb72-4ce2-80ba-f6d2c116d852",
   "metadata": {},
   "outputs": [
    {
     "name": "stdout",
     "output_type": "stream",
     "text": [
      "(64, 64, 3)\n",
      "1/1 [==============================] - 0s 28ms/step\n"
     ]
    },
    {
     "data": {
      "text/plain": [
       "'नि'"
      ]
     },
     "execution_count": 69,
     "metadata": {},
     "output_type": "execute_result"
    }
   ],
   "source": [
    "x=image.img_to_array(image.load_img(\"C:/Users/USER/Desktop/Major/Data HW/MegaData/test2/ti.png\",color_mode=\"grayscale\",target_size=(64,64)))\n",
    "x = np.squeeze(x)\n",
    "x = np.stack((x,) * 3, axis=-1)\n",
    "print(x.shape)\n",
    "x=np.expand_dims(x,axis=0)/255\n",
    "index[np.argmax(model.predict(x),axis=1)[0]]\n",
    "print(index[np.argmax(model1.predict(x),axis=1)[0]])\n",
    "print(index[np.argmax(model2.predict(x),axis=1)[0]])"
   ]
  },
  {
   "cell_type": "code",
   "execution_count": 70,
   "id": "24d0c4f0-635f-4f39-80b3-d0f3feacdbf2",
   "metadata": {},
   "outputs": [
    {
     "name": "stdout",
     "output_type": "stream",
     "text": [
      "(64, 64, 3)\n",
      "1/1 [==============================] - 0s 33ms/step\n"
     ]
    },
    {
     "data": {
      "text/plain": [
       "'टी'"
      ]
     },
     "execution_count": 70,
     "metadata": {},
     "output_type": "execute_result"
    }
   ],
   "source": [
    "x=image.img_to_array(image.load_img(\"C:/Users/USER/Desktop/Major/Data HW/MegaData/test2/ti2.png\",color_mode=\"grayscale\",target_size=(64,64)))\n",
    "x = np.squeeze(x)\n",
    "x = np.stack((x,) * 3, axis=-1)\n",
    "print(x.shape)\n",
    "x=np.expand_dims(x,axis=0)/255\n",
    "index[np.argmax(model.predict(x),axis=1)[0]]"
   ]
  },
  {
   "cell_type": "code",
   "execution_count": 71,
   "id": "e9707c40-e971-40db-9064-aad38fba96e2",
   "metadata": {},
   "outputs": [
    {
     "name": "stdout",
     "output_type": "stream",
     "text": [
      "(64, 64, 3)\n",
      "1/1 [==============================] - 0s 30ms/step\n"
     ]
    },
    {
     "data": {
      "text/plain": [
       "'ञे'"
      ]
     },
     "execution_count": 71,
     "metadata": {},
     "output_type": "execute_result"
    }
   ],
   "source": [
    "x=image.img_to_array(image.load_img(\"C:/Users/USER/Desktop/Major/Data HW/MegaData/test2/tre.png\",color_mode=\"grayscale\",target_size=(64,64)))\n",
    "x = np.squeeze(x)\n",
    "x = np.stack((x,) * 3, axis=-1)\n",
    "print(x.shape)\n",
    "x=np.expand_dims(x,axis=0)/255\n",
    "index[np.argmax(model.predict(x),axis=1)[0]]"
   ]
  },
  {
   "cell_type": "code",
   "execution_count": 72,
   "id": "16c7b3a5-88ca-4557-8365-dc4d7ceb1d91",
   "metadata": {},
   "outputs": [
    {
     "name": "stdout",
     "output_type": "stream",
     "text": [
      "(64, 64, 3)\n",
      "1/1 [==============================] - 0s 30ms/step\n"
     ]
    },
    {
     "data": {
      "text/plain": [
       "'डू'"
      ]
     },
     "execution_count": 72,
     "metadata": {},
     "output_type": "execute_result"
    }
   ],
   "source": [
    "x=image.img_to_array(image.load_img(\"C:/Users/USER/Desktop/Major/Data HW/MegaData/test2/du.png\",color_mode=\"grayscale\",target_size=(64,64)))\n",
    "x = np.squeeze(x)\n",
    "x = np.stack((x,) * 3, axis=-1)\n",
    "print(x.shape)\n",
    "x=np.expand_dims(x,axis=0)/255\n",
    "index[np.argmax(model.predict(x),axis=1)[0]]"
   ]
  },
  {
   "cell_type": "code",
   "execution_count": 73,
   "id": "facf056b-4e1a-4e4a-8b34-00f20b41f794",
   "metadata": {},
   "outputs": [
    {
     "name": "stdout",
     "output_type": "stream",
     "text": [
      "(64, 64, 3)\n",
      "1/1 [==============================] - 0s 28ms/step\n"
     ]
    },
    {
     "data": {
      "text/plain": [
       "'बु'"
      ]
     },
     "execution_count": 73,
     "metadata": {},
     "output_type": "execute_result"
    }
   ],
   "source": [
    "x=image.img_to_array(image.load_img(\"C:/Users/USER/Desktop/Major/Data HW/MegaData/test2/_.png\",color_mode=\"grayscale\",target_size=(64,64)))\n",
    "x = np.squeeze(x)\n",
    "x = np.stack((x,) * 3, axis=-1)\n",
    "print(x.shape)\n",
    "x=np.expand_dims(x,axis=0)/255\n",
    "index[np.argmax(model.predict(x),axis=1)[0]]"
   ]
  },
  {
   "cell_type": "code",
   "execution_count": 74,
   "id": "27aa1e40-d4f9-4db4-be6d-3e6e3df04591",
   "metadata": {},
   "outputs": [
    {
     "name": "stdout",
     "output_type": "stream",
     "text": [
      "(64, 64, 3)\n",
      "1/1 [==============================] - 0s 31ms/step\n"
     ]
    },
    {
     "data": {
      "text/plain": [
       "'९'"
      ]
     },
     "execution_count": 74,
     "metadata": {},
     "output_type": "execute_result"
    }
   ],
   "source": [
    "x=image.img_to_array(image.load_img(\"C:/Users/USER/Desktop/Major/Data HW/MegaData/test2/dd.png\",color_mode=\"grayscale\",target_size=(64,64)))\n",
    "x = np.squeeze(x)\n",
    "x = np.stack((x,) * 3, axis=-1)\n",
    "print(x.shape)\n",
    "x=np.expand_dims(x,axis=0)/255\n",
    "index[np.argmax(model.predict(x),axis=1)[0]]"
   ]
  },
  {
   "cell_type": "code",
   "execution_count": 75,
   "id": "06ae2758-bc61-41db-a908-a57088475051",
   "metadata": {},
   "outputs": [
    {
     "name": "stdout",
     "output_type": "stream",
     "text": [
      "(64, 64, 3)\n",
      "1/1 [==============================] - 0s 48ms/step\n"
     ]
    },
    {
     "data": {
      "text/plain": [
       "'ा'"
      ]
     },
     "execution_count": 75,
     "metadata": {},
     "output_type": "execute_result"
    }
   ],
   "source": [
    "x=image.img_to_array(image.load_img(\"C:/Users/USER/Desktop/Major/Data HW/MegaData/test2/!.png\",color_mode=\"grayscale\",target_size=(64,64)))\n",
    "x = np.squeeze(x)\n",
    "x = np.stack((x,) * 3, axis=-1)\n",
    "print(x.shape)\n",
    "x=np.expand_dims(x,axis=0)/255\n",
    "index[np.argmax(model.predict(x),axis=1)[0]]"
   ]
  },
  {
   "cell_type": "code",
   "execution_count": 76,
   "id": "e540e2ed-5d7c-4f89-95af-6e29bd00ed87",
   "metadata": {},
   "outputs": [
    {
     "name": "stdout",
     "output_type": "stream",
     "text": [
      "(64, 64, 3)\n",
      "1/1 [==============================] - 0s 29ms/step\n"
     ]
    },
    {
     "data": {
      "text/plain": [
       "'६'"
      ]
     },
     "execution_count": 76,
     "metadata": {},
     "output_type": "execute_result"
    }
   ],
   "source": [
    "x=image.img_to_array(image.load_img(\"C:/Users/USER/Desktop/Major/Data HW/MegaData/test2/6.png\",color_mode=\"grayscale\",target_size=(64,64)))\n",
    "x = np.squeeze(x)\n",
    "x = np.stack((x,) * 3, axis=-1)\n",
    "print(x.shape)\n",
    "x=np.expand_dims(x,axis=0)/255\n",
    "index[np.argmax(model.predict(x),axis=1)[0]]"
   ]
  },
  {
   "cell_type": "code",
   "execution_count": 77,
   "id": "b2cb1c43-3a9e-49ab-8638-a65627475b7d",
   "metadata": {},
   "outputs": [
    {
     "name": "stdout",
     "output_type": "stream",
     "text": [
      "(64, 64, 3)\n",
      "1/1 [==============================] - 0s 33ms/step\n"
     ]
    },
    {
     "data": {
      "text/plain": [
       "'६'"
      ]
     },
     "execution_count": 77,
     "metadata": {},
     "output_type": "execute_result"
    }
   ],
   "source": [
    "x=image.img_to_array(image.load_img(\"C:/Users/USER/Desktop/Major/Data HW/MegaData/test2/4.png\",color_mode=\"grayscale\",target_size=(64,64)))\n",
    "x = np.squeeze(x)\n",
    "x = np.stack((x,) * 3, axis=-1)\n",
    "print(x.shape)\n",
    "x=np.expand_dims(x,axis=0)/255\n",
    "index[np.argmax(model.predict(x),axis=1)[0]]"
   ]
  },
  {
   "cell_type": "code",
   "execution_count": 78,
   "id": "0538cf6c-030e-421f-a548-2aa12c56224c",
   "metadata": {},
   "outputs": [
    {
     "name": "stdout",
     "output_type": "stream",
     "text": [
      "(64, 64, 3)\n",
      "1/1 [==============================] - 0s 32ms/step\n"
     ]
    },
    {
     "data": {
      "text/plain": [
       "'व'"
      ]
     },
     "execution_count": 78,
     "metadata": {},
     "output_type": "execute_result"
    }
   ],
   "source": [
    "x=image.img_to_array(image.load_img(\"C:/Users/USER/Desktop/Major/Data HW/MegaData/test2/2.png\",color_mode=\"grayscale\",target_size=(64,64)))\n",
    "x = np.squeeze(x)\n",
    "x = np.stack((x,) * 3, axis=-1)\n",
    "print(x.shape)\n",
    "x=np.expand_dims(x,axis=0)/255\n",
    "index[np.argmax(model.predict(x),axis=1)[0]]"
   ]
  },
  {
   "cell_type": "code",
   "execution_count": 83,
   "id": "08c7eafa-d2a6-4188-855f-a52536a7971e",
   "metadata": {},
   "outputs": [
    {
     "name": "stdout",
     "output_type": "stream",
     "text": [
      "2108/2108 [==============================] - 155s 73ms/step\n"
     ]
    },
    {
     "ename": "ValueError",
     "evalue": "Mix of label input types (string and number)",
     "output_type": "error",
     "traceback": [
      "\u001b[1;31m---------------------------------------------------------------------------\u001b[0m",
      "\u001b[1;31mValueError\u001b[0m                                Traceback (most recent call last)",
      "Cell \u001b[1;32mIn[83], line 42\u001b[0m\n\u001b[0;32m     39\u001b[0m y_pred_classes \u001b[38;5;241m=\u001b[39m np\u001b[38;5;241m.\u001b[39margmax(y_pred, axis\u001b[38;5;241m=\u001b[39m\u001b[38;5;241m1\u001b[39m)\n\u001b[0;32m     41\u001b[0m \u001b[38;5;66;03m# Get classification report\u001b[39;00m\n\u001b[1;32m---> 42\u001b[0m report \u001b[38;5;241m=\u001b[39m \u001b[43mclassification_report\u001b[49m\u001b[43m(\u001b[49m\u001b[43my_test\u001b[49m\u001b[43m,\u001b[49m\u001b[43m \u001b[49m\u001b[43my_pred_classes\u001b[49m\u001b[43m,\u001b[49m\u001b[43m \u001b[49m\u001b[43moutput_dict\u001b[49m\u001b[38;5;241;43m=\u001b[39;49m\u001b[38;5;28;43;01mTrue\u001b[39;49;00m\u001b[43m)\u001b[49m\n\u001b[0;32m     44\u001b[0m \u001b[38;5;66;03m# Get class labels\u001b[39;00m\n\u001b[0;32m     45\u001b[0m class_labels \u001b[38;5;241m=\u001b[39m report\u001b[38;5;241m.\u001b[39mkeys()\n",
      "File \u001b[1;32mC:\\ProgramData\\anaconda3\\lib\\site-packages\\sklearn\\metrics\\_classification.py:2313\u001b[0m, in \u001b[0;36mclassification_report\u001b[1;34m(y_true, y_pred, labels, target_names, sample_weight, digits, output_dict, zero_division)\u001b[0m\n\u001b[0;32m   2310\u001b[0m y_type, y_true, y_pred \u001b[38;5;241m=\u001b[39m _check_targets(y_true, y_pred)\n\u001b[0;32m   2312\u001b[0m \u001b[38;5;28;01mif\u001b[39;00m labels \u001b[38;5;129;01mis\u001b[39;00m \u001b[38;5;28;01mNone\u001b[39;00m:\n\u001b[1;32m-> 2313\u001b[0m     labels \u001b[38;5;241m=\u001b[39m \u001b[43munique_labels\u001b[49m\u001b[43m(\u001b[49m\u001b[43my_true\u001b[49m\u001b[43m,\u001b[49m\u001b[43m \u001b[49m\u001b[43my_pred\u001b[49m\u001b[43m)\u001b[49m\n\u001b[0;32m   2314\u001b[0m     labels_given \u001b[38;5;241m=\u001b[39m \u001b[38;5;28;01mFalse\u001b[39;00m\n\u001b[0;32m   2315\u001b[0m \u001b[38;5;28;01melse\u001b[39;00m:\n",
      "File \u001b[1;32mC:\\ProgramData\\anaconda3\\lib\\site-packages\\sklearn\\utils\\multiclass.py:117\u001b[0m, in \u001b[0;36munique_labels\u001b[1;34m(*ys)\u001b[0m\n\u001b[0;32m    115\u001b[0m \u001b[38;5;66;03m# Check that we don't mix string type with number type\u001b[39;00m\n\u001b[0;32m    116\u001b[0m \u001b[38;5;28;01mif\u001b[39;00m \u001b[38;5;28mlen\u001b[39m(\u001b[38;5;28mset\u001b[39m(\u001b[38;5;28misinstance\u001b[39m(label, \u001b[38;5;28mstr\u001b[39m) \u001b[38;5;28;01mfor\u001b[39;00m label \u001b[38;5;129;01min\u001b[39;00m ys_labels)) \u001b[38;5;241m>\u001b[39m \u001b[38;5;241m1\u001b[39m:\n\u001b[1;32m--> 117\u001b[0m     \u001b[38;5;28;01mraise\u001b[39;00m \u001b[38;5;167;01mValueError\u001b[39;00m(\u001b[38;5;124m\"\u001b[39m\u001b[38;5;124mMix of label input types (string and number)\u001b[39m\u001b[38;5;124m\"\u001b[39m)\n\u001b[0;32m    119\u001b[0m \u001b[38;5;28;01mreturn\u001b[39;00m xp\u001b[38;5;241m.\u001b[39masarray(\u001b[38;5;28msorted\u001b[39m(ys_labels))\n",
      "\u001b[1;31mValueError\u001b[0m: Mix of label input types (string and number)"
     ]
    }
   ],
   "source": [
    "from tensorflow.keras.preprocessing import image\n",
    "import os\n",
    "import numpy as np\n",
    "from sklearn.metrics import classification_report\n",
    "\n",
    "# Set test data directory and target size\n",
    "test_data_dir = 'C:/Users/USER/Desktop/Major/Data HW/MegaData/test'\n",
    "target_size = (64, 64)\n",
    "\n",
    "# Initialize lists to store test data and labels\n",
    "x_test = []\n",
    "y_test = []\n",
    "\n",
    "# Loop over subdirectories in test data directory\n",
    "for subdir in os.listdir(test_data_dir):\n",
    "    # Get class label from subdirectory name\n",
    "    class_label = subdir\n",
    "    \n",
    "    # Loop over images in subdirectory\n",
    "    for filename in os.listdir(os.path.join(test_data_dir, subdir)):\n",
    "        # Load image and resize it to target size\n",
    "        img = image.load_img(os.path.join(test_data_dir, subdir, filename), target_size=target_size)\n",
    "        \n",
    "        # Convert image to numpy array and rescale pixel values\n",
    "        img_array = image.img_to_array(img) / 255.0\n",
    "        \n",
    "        # Append image array and class label to test data and labels lists\n",
    "        x_test.append(img_array)\n",
    "        y_test.append(class_label)\n",
    "\n",
    "# Convert test data and labels lists to numpy arrays\n",
    "x_test = np.array(x_test)\n",
    "y_test = np.array(y_test)\n",
    "\n",
    "# Get predicted class probabilities\n",
    "y_pred = model.predict(x_test)\n",
    "\n",
    "# Convert predicted probabilities to class labels\n",
    "y_pred_classes = np.argmax(y_pred, axis=1)\n",
    "\n"
   ]
  },
  {
   "cell_type": "code",
   "execution_count": 85,
   "id": "7512cb2d-bf22-462f-9707-1766aafe472b",
   "metadata": {},
   "outputs": [
    {
     "name": "stdout",
     "output_type": "stream",
     "text": [
      "Found 67447 images belonging to 459 classes.\n"
     ]
    },
    {
     "ename": "TypeError",
     "evalue": "'float' object is not subscriptable",
     "output_type": "error",
     "traceback": [
      "\u001b[1;31m---------------------------------------------------------------------------\u001b[0m",
      "\u001b[1;31mTypeError\u001b[0m                                 Traceback (most recent call last)",
      "Cell \u001b[1;32mIn[85], line 26\u001b[0m\n\u001b[0;32m     23\u001b[0m class_labels \u001b[38;5;241m=\u001b[39m report\u001b[38;5;241m.\u001b[39mkeys()\n\u001b[0;32m     25\u001b[0m \u001b[38;5;66;03m# Sort classes based on f1-score\u001b[39;00m\n\u001b[1;32m---> 26\u001b[0m sorted_classes \u001b[38;5;241m=\u001b[39m \u001b[38;5;28;43msorted\u001b[39;49m\u001b[43m(\u001b[49m\u001b[43mclass_labels\u001b[49m\u001b[43m,\u001b[49m\u001b[43m \u001b[49m\u001b[43mkey\u001b[49m\u001b[38;5;241;43m=\u001b[39;49m\u001b[38;5;28;43;01mlambda\u001b[39;49;00m\u001b[43m \u001b[49m\u001b[43mx\u001b[49m\u001b[43m:\u001b[49m\u001b[43m \u001b[49m\u001b[43mreport\u001b[49m\u001b[43m[\u001b[49m\u001b[43mx\u001b[49m\u001b[43m]\u001b[49m\u001b[43m[\u001b[49m\u001b[38;5;124;43m'\u001b[39;49m\u001b[38;5;124;43mf1-score\u001b[39;49m\u001b[38;5;124;43m'\u001b[39;49m\u001b[43m]\u001b[49m\u001b[43m)\u001b[49m\n\u001b[0;32m     28\u001b[0m \u001b[38;5;66;03m# Print sorted classes with their f1-score\u001b[39;00m\n\u001b[0;32m     29\u001b[0m \u001b[38;5;28;01mfor\u001b[39;00m class_name \u001b[38;5;129;01min\u001b[39;00m sorted_classes:\n",
      "Cell \u001b[1;32mIn[85], line 26\u001b[0m, in \u001b[0;36m<lambda>\u001b[1;34m(x)\u001b[0m\n\u001b[0;32m     23\u001b[0m class_labels \u001b[38;5;241m=\u001b[39m report\u001b[38;5;241m.\u001b[39mkeys()\n\u001b[0;32m     25\u001b[0m \u001b[38;5;66;03m# Sort classes based on f1-score\u001b[39;00m\n\u001b[1;32m---> 26\u001b[0m sorted_classes \u001b[38;5;241m=\u001b[39m \u001b[38;5;28msorted\u001b[39m(class_labels, key\u001b[38;5;241m=\u001b[39m\u001b[38;5;28;01mlambda\u001b[39;00m x: \u001b[43mreport\u001b[49m\u001b[43m[\u001b[49m\u001b[43mx\u001b[49m\u001b[43m]\u001b[49m\u001b[43m[\u001b[49m\u001b[38;5;124;43m'\u001b[39;49m\u001b[38;5;124;43mf1-score\u001b[39;49m\u001b[38;5;124;43m'\u001b[39;49m\u001b[43m]\u001b[49m)\n\u001b[0;32m     28\u001b[0m \u001b[38;5;66;03m# Print sorted classes with their f1-score\u001b[39;00m\n\u001b[0;32m     29\u001b[0m \u001b[38;5;28;01mfor\u001b[39;00m class_name \u001b[38;5;129;01min\u001b[39;00m sorted_classes:\n",
      "\u001b[1;31mTypeError\u001b[0m: 'float' object is not subscriptable"
     ]
    }
   ],
   "source": [
    "from keras.preprocessing.image import ImageDataGenerator\n",
    "\n",
    "# Create ImageDataGenerator for test data\n",
    "test_datagen = ImageDataGenerator(rescale=1./255)\n",
    "\n",
    "# Create DirectoryIterator for test data\n",
    "test_iterator = test_datagen.flow_from_directory(\n",
    "    'C:/Users/USER/Desktop/Major/Data HW/MegaData/test',\n",
    "    target_size=(64, 64),\n",
    "    batch_size=256,\n",
    "    class_mode='categorical'\n",
    ")\n",
    "\n",
    "# Get class label to index mapping\n",
    "class_indices = test_iterator.class_indices\n",
    "\n",
    "# Convert true class labels to integer labels\n",
    "y_test = np.array([class_indices[label] for label in y_test])\n",
    "# Get classification report\n",
    "report = classification_report(y_test, y_pred_classes, output_dict=True)\n",
    "\n",
    "# Get class labels\n",
    "class_labels = report.keys()\n",
    "\n",
    "# Sort classes based on f1-score\n",
    "sorted_classes = sorted(class_labels, key=lambda x: report[x]['f1-score'])\n",
    "\n",
    "# Print sorted classes with their f1-score\n",
    "for class_name in sorted_classes:\n",
    "    print(f\"{class_name}: {report[class_name]['f1-score']}\")"
   ]
  },
  {
   "cell_type": "code",
   "execution_count": 81,
   "id": "1f93e8b3-3061-4480-8795-1aec74872619",
   "metadata": {},
   "outputs": [
    {
     "data": {
      "text/plain": [
       "keras.preprocessing.image.DirectoryIterator"
      ]
     },
     "execution_count": 81,
     "metadata": {},
     "output_type": "execute_result"
    }
   ],
   "source": [
    "type(x_test)"
   ]
  }
 ],
 "metadata": {
  "kernelspec": {
   "display_name": "Python 3 (ipykernel)",
   "language": "python",
   "name": "python3"
  },
  "language_info": {
   "codemirror_mode": {
    "name": "ipython",
    "version": 3
   },
   "file_extension": ".py",
   "mimetype": "text/x-python",
   "name": "python",
   "nbconvert_exporter": "python",
   "pygments_lexer": "ipython3",
   "version": "3.10.9"
  }
 },
 "nbformat": 4,
 "nbformat_minor": 5
}
